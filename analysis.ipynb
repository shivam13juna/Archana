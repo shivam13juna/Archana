{
 "cells": [
  {
   "cell_type": "code",
   "execution_count": 16,
   "metadata": {},
   "outputs": [],
   "source": [
    "import numpy as np\n",
    "import pandas as pd\n",
    "import nltk\n",
    "import re\n",
    "\n",
    "\n",
    "from keras.models import Sequential\n",
    "from keras.layers import Dense, Embedding, LSTM\n",
    "from sklearn.model_selection import train_test_split\n",
    "from keras.utils.np_utils import to_categorical\n",
    "from keras.preprocessing.text import Tokenizer\n",
    "from keras.preprocessing.sequence import pad_sequences\n",
    "from sklearn import preprocessing\n"
   ]
  },
  {
   "cell_type": "code",
   "execution_count": 6,
   "metadata": {},
   "outputs": [
    {
     "name": "stderr",
     "output_type": "stream",
     "text": [
      "/usr/local/lib/python3.5/dist-packages/ipykernel_launcher.py:1: ParserWarning: Falling back to the 'python' engine because the 'c' engine does not support regex separators (separators > 1 char and different from '\\s+' are interpreted as regex); you can avoid this warning by specifying engine='python'.\n",
      "  \"\"\"Entry point for launching an IPython kernel.\n"
     ]
    }
   ],
   "source": [
    "raw_dataframe = pd.read_csv(\"nlpdata.txt\",sep=\",,,\",header=None ,names=['inquiry','ans']) #Our data is separate by ,,,, so that's gonna be our sep, we don't need header, and inquiry and ans will be our column names"
   ]
  },
  {
   "cell_type": "code",
   "execution_count": 7,
   "metadata": {},
   "outputs": [],
   "source": [
    "raw_dataframe['ans']=raw_dataframe['ans'].str.strip() # Trying to clean all whitespaces, and blank char"
   ]
  },
  {
   "cell_type": "code",
   "execution_count": 8,
   "metadata": {},
   "outputs": [],
   "source": [
    "raw_dataframe['inquiry'] = raw_dataframe['inquiry'].apply(lambda x: x.lower())#Converting all characters to lower, as capital char isn't gonna affect it's meaning\n",
    "raw_dataframe['inquiry'] = raw_dataframe['inquiry'].apply((lambda x: re.sub('[^a-zA-z0-9\\s]','',x))) #Trying to replace all the unwanted characters, with space."
   ]
  },
  {
   "cell_type": "code",
   "execution_count": 9,
   "metadata": {},
   "outputs": [],
   "source": [
    "percentage_validation=0.20 #Keeping 20% of the data for validation set"
   ]
  },
  {
   "cell_type": "markdown",
   "metadata": {},
   "source": [
    "## Main Recurrent Neural Network Architecture"
   ]
  },
  {
   "cell_type": "code",
   "execution_count": 13,
   "metadata": {},
   "outputs": [],
   "source": [
    "max_words_capacity = 20000 #Total number of words, in the embedding\n",
    "max_sentence_length = 30 # Max number of characters in the sentences"
   ]
  },
  {
   "cell_type": "code",
   "execution_count": 14,
   "metadata": {},
   "outputs": [],
   "source": [
    "data=raw_dataframe.copy()"
   ]
  },
  {
   "cell_type": "code",
   "execution_count": 17,
   "metadata": {},
   "outputs": [
    {
     "name": "stdout",
     "output_type": "stream",
     "text": [
      "what           609\n",
      "who            402\n",
      "unknown        272\n",
      "affirmation    104\n",
      "when            96\n",
      "Name: ans, dtype: int64\n"
     ]
    }
   ],
   "source": [
    "print(data['ans'].value_counts()) # Just checking if data isn't skewed.\n",
    "\n",
    "tokenizer = Tokenizer(num_words=max_words_capacity, split=' ') # Splitting the sentences based on gaps \n",
    "tokenizer.fit_on_texts(data['inquiry'].values) # Fitting the tokenizer on text\n",
    "X = tokenizer.texts_to_sequences(data['inquiry'].values) # Finally converting strings to integer\n",
    "X = pad_sequences(X, maxlen=max_sentence_length) #Padding sequence to maximum length"
   ]
  },
  {
   "cell_type": "code",
   "execution_count": 19,
   "metadata": {},
   "outputs": [
    {
     "name": "stdout",
     "output_type": "stream",
     "text": [
      "Found 3685 unique tokens.\n",
      "Shape of data tensor: (1483, 30)\n",
      "Shape of label tensor: (1483, 5)\n"
     ]
    }
   ],
   "source": [
    "word_index = tokenizer.word_index\n",
    "print('Found %s unique tokens.' % len(word_index))\n",
    "\n",
    "Y = data['ans']\n",
    "le = preprocessing.LabelEncoder()\n",
    "le.fit(Y)\n",
    "Y=le.transform(Y) \n",
    "labels = to_categorical(np.asarray(Y))\n",
    "print('Shape of data tensor:', X.shape)\n",
    "print('Shape of label tensor:', labels.shape)\n",
    "\n",
    "\n",
    "# split the data into a training set and a validation set\n",
    "indices = np.arange(X.shape[0])\n",
    "np.random.seed(0)\n",
    "np.random.shuffle(indices)\n",
    "X = X[indices]\n",
    "labels = labels[indices]\n",
    "total_val_samples = int(percentage_validation * X.shape[0])\n",
    "\n",
    "x_train = X[:-total_val_samples]\n",
    "y_train = labels[:-total_val_samples]\n",
    "x_val = X[-total_val_samples:]\n",
    "y_val = labels[-total_val_samples:]"
   ]
  },
  {
   "cell_type": "code",
   "execution_count": 23,
   "metadata": {},
   "outputs": [
    {
     "name": "stdout",
     "output_type": "stream",
     "text": [
      "Found 400000 word vectors.\n"
     ]
    }
   ],
   "source": [
    "embeddings_index = {}\n",
    "f = open('glove.6B.100d.txt', encoding=\"utf8\")\n",
    "for line in f:\n",
    "    values = line.split()\n",
    "    word = values[0]\n",
    "    coefs = np.asarray(values[1:], dtype='float32')\n",
    "    embeddings_index[word] = coefs\n",
    "f.close()\n",
    "\n",
    "print('Found %s word vectors.' % len(embeddings_index))"
   ]
  },
  {
   "cell_type": "code",
   "execution_count": 24,
   "metadata": {},
   "outputs": [],
   "source": [
    "word_dim=100"
   ]
  },
  {
   "cell_type": "code",
   "execution_count": 25,
   "metadata": {},
   "outputs": [],
   "source": [
    "embedding_matrix = np.zeros((len(word_index) + 1, word_dim))\n",
    "for word, i in word_index.items():\n",
    "    embedding_vector = embeddings_index.get(word)\n",
    "    if embedding_vector is not None:\n",
    "        # words not found in embedding index will be all-zeros.\n",
    "        embedding_matrix[i] = embedding_vector"
   ]
  },
  {
   "cell_type": "code",
   "execution_count": 26,
   "metadata": {},
   "outputs": [],
   "source": [
    "\n",
    "embedding_layer = Embedding(len(word_index) + 1,\n",
    "                            word_dim,\n",
    "                            weights=[embedding_matrix],\n",
    "                            input_length=max_sentence_length,\n",
    "                            trainable=False)"
   ]
  },
  {
   "cell_type": "code",
   "execution_count": 35,
   "metadata": {},
   "outputs": [
    {
     "name": "stderr",
     "output_type": "stream",
     "text": [
      "/usr/local/lib/python3.5/dist-packages/ipykernel_launcher.py:7: UserWarning: Update your `LSTM` call to the Keras 2 API: `LSTM(196, recurrent_dropout=0.2, dropout=0.2)`\n",
      "  import sys\n"
     ]
    },
    {
     "name": "stdout",
     "output_type": "stream",
     "text": [
      "_________________________________________________________________\n",
      "Layer (type)                 Output Shape              Param #   \n",
      "=================================================================\n",
      "embedding_1 (Embedding)      (None, 30, 100)           368600    \n",
      "_________________________________________________________________\n",
      "lstm_2 (LSTM)                (None, 196)               232848    \n",
      "_________________________________________________________________\n",
      "dense_2 (Dense)              (None, 5)                 985       \n",
      "=================================================================\n",
      "Total params: 602,433\n",
      "Trainable params: 233,833\n",
      "Non-trainable params: 368,600\n",
      "_________________________________________________________________\n",
      "None\n"
     ]
    }
   ],
   "source": [
    "#In this case, a uni layer one directional LSTM worked out pretty good, it'll have 200 layers, with loss function as categorical cross entropy\n",
    "# dropout will 0.2\n",
    "lstm_out = 196\n",
    "\n",
    "model = Sequential()\n",
    "model.add(embedding_layer)\n",
    "model.add(LSTM(lstm_out, dropout_U=0.2, dropout_W=0.2))\n",
    "model.add(Dense(5,activation='softmax'))\n",
    "model.compile(loss = 'categorical_crossentropy', optimizer='adam',metrics = ['accuracy'])\n",
    "print(model.summary())"
   ]
  },
  {
   "cell_type": "code",
   "execution_count": 36,
   "metadata": {},
   "outputs": [
    {
     "name": "stdout",
     "output_type": "stream",
     "text": [
      "Train on 1187 samples, validate on 296 samples\n",
      "Epoch 1/25\n",
      "1187/1187 [==============================] - 2s 1ms/step - loss: 1.4418 - acc: 0.3884 - val_loss: 1.4346 - val_acc: 0.4020\n",
      "Epoch 2/25\n",
      "1187/1187 [==============================] - 1s 605us/step - loss: 1.3852 - acc: 0.4212 - val_loss: 1.3973 - val_acc: 0.3885\n",
      "Epoch 3/25\n",
      "1187/1187 [==============================] - 1s 611us/step - loss: 1.3576 - acc: 0.4246 - val_loss: 1.4034 - val_acc: 0.3851\n",
      "Epoch 4/25\n",
      "1187/1187 [==============================] - 1s 609us/step - loss: 1.3368 - acc: 0.4179 - val_loss: 1.4050 - val_acc: 0.4088\n",
      "Epoch 5/25\n",
      "1187/1187 [==============================] - 1s 622us/step - loss: 1.3162 - acc: 0.4541 - val_loss: 1.4184 - val_acc: 0.3345\n",
      "Epoch 6/25\n",
      "1187/1187 [==============================] - 1s 627us/step - loss: 1.2939 - acc: 0.4693 - val_loss: 1.4386 - val_acc: 0.4054\n",
      "Epoch 7/25\n",
      "1187/1187 [==============================] - 1s 611us/step - loss: 1.2739 - acc: 0.4650 - val_loss: 1.4343 - val_acc: 0.3851\n",
      "Epoch 8/25\n",
      "1187/1187 [==============================] - 1s 615us/step - loss: 1.2331 - acc: 0.4962 - val_loss: 1.4592 - val_acc: 0.3345\n",
      "Epoch 9/25\n",
      "1187/1187 [==============================] - 1s 615us/step - loss: 1.2186 - acc: 0.4987 - val_loss: 1.4937 - val_acc: 0.3615\n",
      "Epoch 10/25\n",
      "1187/1187 [==============================] - 1s 612us/step - loss: 1.2004 - acc: 0.5046 - val_loss: 1.4864 - val_acc: 0.3615\n",
      "Epoch 11/25\n",
      "1187/1187 [==============================] - 1s 615us/step - loss: 1.1548 - acc: 0.5316 - val_loss: 1.5148 - val_acc: 0.3074\n",
      "Epoch 12/25\n",
      "1187/1187 [==============================] - 1s 617us/step - loss: 1.1349 - acc: 0.5535 - val_loss: 1.5053 - val_acc: 0.3277\n",
      "Epoch 13/25\n",
      "1187/1187 [==============================] - 1s 624us/step - loss: 1.1315 - acc: 0.5282 - val_loss: 1.5566 - val_acc: 0.3547\n",
      "Epoch 14/25\n",
      "1187/1187 [==============================] - 1s 638us/step - loss: 1.0681 - acc: 0.5805 - val_loss: 1.5683 - val_acc: 0.3209\n",
      "Epoch 15/25\n",
      "1187/1187 [==============================] - 1s 604us/step - loss: 1.0174 - acc: 0.5838 - val_loss: 1.6034 - val_acc: 0.3446\n",
      "Epoch 16/25\n",
      "1187/1187 [==============================] - 1s 605us/step - loss: 0.9736 - acc: 0.6158 - val_loss: 1.6667 - val_acc: 0.3176\n",
      "Epoch 17/25\n",
      "1187/1187 [==============================] - 1s 611us/step - loss: 0.9769 - acc: 0.6091 - val_loss: 1.5721 - val_acc: 0.3514\n",
      "Epoch 18/25\n",
      "1187/1187 [==============================] - 1s 598us/step - loss: 0.9090 - acc: 0.6352 - val_loss: 1.6626 - val_acc: 0.3345\n",
      "Epoch 19/25\n",
      "1187/1187 [==============================] - 1s 671us/step - loss: 0.8719 - acc: 0.6537 - val_loss: 1.6929 - val_acc: 0.3277\n",
      "Epoch 20/25\n",
      "1187/1187 [==============================] - 1s 599us/step - loss: 0.8445 - acc: 0.6841 - val_loss: 1.7382 - val_acc: 0.3480\n",
      "Epoch 21/25\n",
      "1187/1187 [==============================] - 1s 609us/step - loss: 0.7973 - acc: 0.6950 - val_loss: 1.7893 - val_acc: 0.3378\n",
      "Epoch 22/25\n",
      "1187/1187 [==============================] - 1s 608us/step - loss: 0.7461 - acc: 0.7228 - val_loss: 1.7837 - val_acc: 0.2939\n",
      "Epoch 23/25\n",
      "1187/1187 [==============================] - 1s 621us/step - loss: 0.6976 - acc: 0.7355 - val_loss: 1.8471 - val_acc: 0.3142\n",
      "Epoch 24/25\n",
      "1187/1187 [==============================] - 1s 621us/step - loss: 0.6722 - acc: 0.7523 - val_loss: 1.8149 - val_acc: 0.3311\n",
      "Epoch 25/25\n",
      "1187/1187 [==============================] - 1s 610us/step - loss: 0.6198 - acc: 0.7742 - val_loss: 1.8184 - val_acc: 0.3446\n"
     ]
    },
    {
     "data": {
      "text/plain": [
       "<keras.callbacks.History at 0x7fa3043181d0>"
      ]
     },
     "execution_count": 36,
     "metadata": {},
     "output_type": "execute_result"
    }
   ],
   "source": [
    "model.fit(x_train, y_train,\n",
    "          batch_size=50,\n",
    "          epochs=25,\n",
    "          validation_data=(x_val, y_val))"
   ]
  },
  {
   "cell_type": "code",
   "execution_count": null,
   "metadata": {},
   "outputs": [],
   "source": [
    "model.save_weights('archana.h5')"
   ]
  },
  {
   "cell_type": "code",
   "execution_count": 28,
   "metadata": {},
   "outputs": [],
   "source": [
    "model.load_weights('archana.h5')"
   ]
  },
  {
   "cell_type": "code",
   "execution_count": 29,
   "metadata": {},
   "outputs": [],
   "source": [
    "example = tokenizer.texts_to_sequences([\"What time does the train leave\"])\n",
    "example = pad_sequences(example, maxlen=max_sentence_length)"
   ]
  },
  {
   "cell_type": "code",
   "execution_count": 30,
   "metadata": {},
   "outputs": [
    {
     "name": "stderr",
     "output_type": "stream",
     "text": [
      "/usr/local/lib/python3.5/dist-packages/sklearn/preprocessing/label.py:151: DeprecationWarning: The truth value of an empty array is ambiguous. Returning False, but in future this will result in an error. Use `array.size > 0` to check that an array is not empty.\n",
      "  if diff:\n"
     ]
    },
    {
     "data": {
      "text/plain": [
       "'when'"
      ]
     },
     "execution_count": 30,
     "metadata": {},
     "output_type": "execute_result"
    }
   ],
   "source": [
    "le.inverse_transform(np.argmax(model.predict(example)))"
   ]
  },
  {
   "cell_type": "code",
   "execution_count": null,
   "metadata": {},
   "outputs": [],
   "source": []
  }
 ],
 "metadata": {
  "anaconda-cloud": {},
  "kernelspec": {
   "display_name": "Python 3",
   "language": "python",
   "name": "python3"
  },
  "language_info": {
   "codemirror_mode": {
    "name": "ipython",
    "version": 3
   },
   "file_extension": ".py",
   "mimetype": "text/x-python",
   "name": "python",
   "nbconvert_exporter": "python",
   "pygments_lexer": "ipython3",
   "version": "3.5.2"
  }
 },
 "nbformat": 4,
 "nbformat_minor": 2
}
